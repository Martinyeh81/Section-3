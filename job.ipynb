{
 "cells": [
  {
   "cell_type": "code",
   "execution_count": 168,
   "metadata": {},
   "outputs": [],
   "source": [
    "import numpy as np\n",
    "import random"
   ]
  },
  {
   "cell_type": "code",
   "execution_count": 169,
   "metadata": {},
   "outputs": [],
   "source": [
    "def main():\n",
    "    mean_total_payment(10) # n=10 or 20\n",
    "    p_total_payment(10) # n=10 or 20"
   ]
  },
  {
   "cell_type": "code",
   "execution_count": 170,
   "metadata": {},
   "outputs": [],
   "source": [
    "def run(n):\n",
    "    total_payment = 0\n",
    "    payment_list = []\n",
    "    current_payment = []\n",
    "    privous_payment = 0\n",
    "    absolute_difference = 0\n",
    "    Random_select = []\n",
    "    Rm = np.random.choice(n,n,replace=False)\n",
    "    for i in range(n):\n",
    "        if i == 0:\n",
    "            current_payment = Rm[i]+1\n",
    "            total_payment = Rm[i]+1\n",
    "            payment_list.append(current_payment)\n",
    "            Random_select.append(Rm[i]+1)\n",
    "        else:\n",
    "            privous_payment = Rm[i-1]+1\n",
    "            current_payment = Rm[i]+1\n",
    "            x = current_payment-privous_payment\n",
    "            absolute_difference = np.fabs(x)\n",
    "            payment_list.append(absolute_difference)\n",
    "            Random_select.append(Rm[i]+1)\n",
    "            total_payment = total_payment + absolute_difference\n",
    "#     print(Random_select)\n",
    "#     print(payment_list)\n",
    "#     print(total_payment)\n",
    "    return total_payment "
   ]
  },
  {
   "cell_type": "code",
   "execution_count": 171,
   "metadata": {},
   "outputs": [],
   "source": [
    "def mean_total_payment(n):\n",
    "    result = []\n",
    "    for i in range(20):\n",
    "        total_payment = run(n)\n",
    "        result.append(total_payment/n)\n",
    "    answer1 = np.sum(result)/20\n",
    "    print(answer1)\n",
    "    answer2 = np.std(result)\n",
    "    print(answer2)"
   ]
  },
  {
   "cell_type": "code",
   "execution_count": 172,
   "metadata": {},
   "outputs": [],
   "source": [
    "def p_total_payment(n):\n",
    "    result = []\n",
    "    count = 0\n",
    "    for i in range(1000000):\n",
    "        total_payment = run(n)\n",
    "        if total_payment >= 45: #45 or 160\n",
    "            count = count + 1\n",
    "    p = count/1000000\n",
    "    print(p)"
   ]
  },
  {
   "cell_type": "code",
   "execution_count": 173,
   "metadata": {},
   "outputs": [
    {
     "name": "stdout",
     "output_type": "stream",
     "text": [
      "3.8649999999999998\n",
      "0.560602354615105\n",
      "0.181598\n"
     ]
    }
   ],
   "source": [
    "if __name__ == '__main__':\n",
    "    main()"
   ]
  },
  {
   "cell_type": "code",
   "execution_count": null,
   "metadata": {},
   "outputs": [],
   "source": []
  }
 ],
 "metadata": {
  "kernelspec": {
   "display_name": "Python 3",
   "language": "python",
   "name": "python3"
  },
  "language_info": {
   "codemirror_mode": {
    "name": "ipython",
    "version": 3
   },
   "file_extension": ".py",
   "mimetype": "text/x-python",
   "name": "python",
   "nbconvert_exporter": "python",
   "pygments_lexer": "ipython3",
   "version": "3.7.4"
  }
 },
 "nbformat": 4,
 "nbformat_minor": 4
}
